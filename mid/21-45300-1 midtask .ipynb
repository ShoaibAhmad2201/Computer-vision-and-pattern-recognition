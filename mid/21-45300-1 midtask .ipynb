{
  "cells": [
    {
      "cell_type": "markdown",
      "source": [
        "List Operations:"
      ],
      "metadata": {
        "id": "y3pW5l29t4AB"
      }
    },
    {
      "cell_type": "markdown",
      "source": [],
      "metadata": {
        "id": "u9blJcZuuwb_"
      }
    },
    {
      "cell_type": "code",
      "source": [
        "# Create a list of integers containing numbers from 1 to 10\n",
        "numbers = list(range(1, 10))\n",
        "\n",
        "# Append the square of each number to the list\n",
        "squares = [num ** 2 for num in numbers]\n",
        "numbers.extend(squares)\n",
        "\n",
        "# Find and print the sum of all elements in the list\n",
        "sum_of_elements = sum(numbers)\n",
        "print(\"List:\", numbers)\n",
        "print(\"Sum of all elements:\", sum_of_elements)\n"
      ],
      "metadata": {
        "colab": {
          "base_uri": "https://localhost:8080/"
        },
        "id": "QpRdpaFtt8yo",
        "outputId": "c1942074-bc6b-459e-d17a-57481c4edf34"
      },
      "execution_count": 2,
      "outputs": [
        {
          "output_type": "stream",
          "name": "stdout",
          "text": [
            "List: [1, 2, 3, 4, 5, 6, 7, 8, 9, 1, 4, 9, 16, 25, 36, 49, 64, 81]\n",
            "Sum of all elements: 330\n"
          ]
        }
      ]
    },
    {
      "cell_type": "markdown",
      "source": [
        "Tuple Operations:\n"
      ],
      "metadata": {
        "id": "vGGYtS4nvpOW"
      }
    },
    {
      "cell_type": "code",
      "source": [
        "# Create a tuple containing the first five even numbers\n",
        "even_numbers = (2, 4, 6, 8, 10)\n",
        "\n",
        "# Find and print the product of all elements in the tuple\n",
        "product_of_elements = 1\n",
        "for num in even_numbers:\n",
        "    product_of_elements *= num\n",
        "\n",
        "print(\"Tuple:\", even_numbers)\n",
        "print(\"Product of all elements:\", product_of_elements)\n"
      ],
      "metadata": {
        "colab": {
          "base_uri": "https://localhost:8080/"
        },
        "id": "Fn8E3ULhv3dB",
        "outputId": "4b74b38a-be65-4b44-8609-3316328178cc"
      },
      "execution_count": 3,
      "outputs": [
        {
          "output_type": "stream",
          "name": "stdout",
          "text": [
            "Tuple: (2, 4, 6, 8, 10)\n",
            "Product of all elements: 3840\n"
          ]
        }
      ]
    },
    {
      "cell_type": "markdown",
      "source": [
        "Set Operations:\n"
      ],
      "metadata": {
        "id": "U0ApnE9xwBCd"
      }
    },
    {
      "cell_type": "code",
      "source": [
        "# Create two sets of odd numbers between 1 to 10\n",
        "set1 = {1, 3, 5, 7, 9}\n",
        "set2 = {1, 3, 5, 7}\n",
        "\n",
        "# Find and print the union of the two sets\n",
        "union_set = set1.union(set2)\n",
        "print(\"Union of the sets:\", union_set)\n",
        "\n",
        "# Find and print the intersection of the two sets\n",
        "intersection_set = set1.intersection(set2)\n",
        "print(\"Intersection of the sets:\", intersection_set)\n"
      ],
      "metadata": {
        "colab": {
          "base_uri": "https://localhost:8080/"
        },
        "id": "eunN-Qe8wSES",
        "outputId": "c1a52600-4452-4fc0-aa8b-345f3d036d7f"
      },
      "execution_count": 4,
      "outputs": [
        {
          "output_type": "stream",
          "name": "stdout",
          "text": [
            "Union of the sets: {1, 3, 5, 7, 9}\n",
            "Intersection of the sets: {1, 3, 5, 7}\n"
          ]
        }
      ]
    },
    {
      "cell_type": "markdown",
      "source": [
        "Dictionary Operations:\n"
      ],
      "metadata": {
        "id": "SF7GtkPvwijv"
      }
    },
    {
      "cell_type": "code",
      "source": [
        "# Create a dictionary with keys as the first five lowercase alphabets and values as their respective ASCII values\n",
        "alphabet_dict = {'a': ord('a'), 'b': ord('b'), 'c': ord('c'), 'd': ord('d'), 'e': ord('e')}\n",
        "\n",
        "# Print the dictionary\n",
        "print(\"Dictionary:\", alphabet_dict)\n"
      ],
      "metadata": {
        "colab": {
          "base_uri": "https://localhost:8080/"
        },
        "id": "HynmOy4Gwlq_",
        "outputId": "66bfaaeb-158b-43dd-ce9c-811352413d87"
      },
      "execution_count": 5,
      "outputs": [
        {
          "output_type": "stream",
          "name": "stdout",
          "text": [
            "Dictionary: {'a': 97, 'b': 98, 'c': 99, 'd': 100, 'e': 101}\n"
          ]
        }
      ]
    },
    {
      "cell_type": "markdown",
      "source": [
        "Functional Programming:\n"
      ],
      "metadata": {
        "id": "I64N2NAewscb"
      }
    },
    {
      "cell_type": "code",
      "source": [
        "# Define a function square(x) that returns the square of a\n",
        "def square(a):\n",
        "    return a ** 2\n",
        "\n",
        "# Use the map function to apply the square function to each element in a list of integers from 1 to 10\n",
        "numbers = list(range(1, 10))\n",
        "squared_numbers = list(map(square, numbers))\n",
        "\n",
        "# Print the result\n",
        "print(\"Original List:\", numbers)\n",
        "print(\"Squared List:\", squared_numbers)\n"
      ],
      "metadata": {
        "colab": {
          "base_uri": "https://localhost:8080/"
        },
        "id": "A7xA-_k-w3NP",
        "outputId": "15a63028-6520-4ca5-cc85-696d0209b6fd"
      },
      "execution_count": 8,
      "outputs": [
        {
          "output_type": "stream",
          "name": "stdout",
          "text": [
            "Original List: [1, 2, 3, 4, 5, 6, 7, 8, 9]\n",
            "Squared List: [1, 4, 9, 16, 25, 36, 49, 64, 81]\n"
          ]
        }
      ]
    }
  ],
  "metadata": {
    "kernelspec": {
      "display_name": "Python 3",
      "language": "python",
      "name": "python3"
    },
    "language_info": {
      "codemirror_mode": {
        "name": "ipython",
        "version": 3
      },
      "file_extension": ".py",
      "mimetype": "text/x-python",
      "name": "python",
      "nbconvert_exporter": "python",
      "pygments_lexer": "ipython3",
      "version": "3.8.5"
    },
    "colab": {
      "provenance": []
    }
  },
  "nbformat": 4,
  "nbformat_minor": 0
}